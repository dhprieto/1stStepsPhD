{
 "cells": [
  {
   "cell_type": "code",
   "execution_count": 21,
   "id": "fe379ded-62ca-476c-812e-15398d97bd76",
   "metadata": {},
   "outputs": [],
   "source": [
    "import numpy as np\n",
    "import matplotlib.pyplot as plt\n",
    "import pandas as pd\n",
    "import tslearn as ts\n",
    "\n",
    "url = \"../data/mainUrineFlav.csv\"\n",
    "datos = pd.read_csv(url, encoding=\"unicode_escape\", index_col=[0])"
   ]
  },
  {
   "cell_type": "code",
   "execution_count": 14,
   "id": "59722beb-095d-45d8-a758-03cfaaa02a02",
   "metadata": {},
   "outputs": [],
   "source": [
    "def numericCols(datos):\n",
    "    numCols = datos.select_dtypes(include=np.number).drop(\"numVol\",1).columns\n",
    "    datosNum = datos[numCols]\n",
    "    return(datosNum)"
   ]
  },
  {
   "cell_type": "code",
   "execution_count": 12,
   "id": "d919d812-c930-4415-bcdf-f63e443d95df",
   "metadata": {},
   "outputs": [
    {
     "name": "stderr",
     "output_type": "stream",
     "text": [
      "C:\\Users\\CRISTI~1\\AppData\\Local\\Temp/ipykernel_19436/4003037846.py:2: FutureWarning: In a future version of pandas all arguments of DataFrame.drop except for the argument 'labels' will be keyword-only\n",
      "  numCols = datos.select_dtypes(include=np.number).drop(\"numVol\",1).columns\n"
     ]
    }
   ],
   "source": [
    "datos0 = datos[datos[\"Tiempo\"] == \"0\"]\n",
    "datosFinal = datos[datos[\"Tiempo\"] == \"Final\"]\n",
    "\n",
    "datos0 = numericCols(datos0)\n",
    "datosFinal = numericCols(datosFinal)"
   ]
  },
  {
   "cell_type": "code",
   "execution_count": 19,
   "id": "cc804151-7ea5-4298-8671-b27419d4956f",
   "metadata": {},
   "outputs": [
    {
     "ename": "TypeError",
     "evalue": "'module' object is not callable",
     "output_type": "error",
     "traceback": [
      "\u001b[1;31m---------------------------------------------------------------------------\u001b[0m",
      "\u001b[1;31mTypeError\u001b[0m                                 Traceback (most recent call last)",
      "\u001b[1;32mC:\\Users\\CRISTI~1\\AppData\\Local\\Temp/ipykernel_19436/1632635072.py\u001b[0m in \u001b[0;36m<module>\u001b[1;34m\u001b[0m\n\u001b[0;32m      2\u001b[0m \u001b[0my\u001b[0m \u001b[1;33m=\u001b[0m \u001b[0mnp\u001b[0m\u001b[1;33m.\u001b[0m\u001b[0marray\u001b[0m\u001b[1;33m(\u001b[0m\u001b[0mdatosFinal\u001b[0m\u001b[1;33m)\u001b[0m\u001b[1;33m\u001b[0m\u001b[1;33m\u001b[0m\u001b[0m\n\u001b[0;32m      3\u001b[0m \u001b[1;33m\u001b[0m\u001b[0m\n\u001b[1;32m----> 4\u001b[1;33m \u001b[0mdistance\u001b[0m\u001b[1;33m,\u001b[0m \u001b[0mpath\u001b[0m \u001b[1;33m=\u001b[0m \u001b[0mfastdtw\u001b[0m\u001b[1;33m(\u001b[0m\u001b[0mx\u001b[0m\u001b[1;33m,\u001b[0m \u001b[0my\u001b[0m\u001b[1;33m,\u001b[0m \u001b[0mdist\u001b[0m\u001b[1;33m=\u001b[0m\u001b[0meuclidean\u001b[0m\u001b[1;33m)\u001b[0m\u001b[1;33m\u001b[0m\u001b[1;33m\u001b[0m\u001b[0m\n\u001b[0m\u001b[0;32m      5\u001b[0m \u001b[1;33m\u001b[0m\u001b[0m\n\u001b[0;32m      6\u001b[0m \u001b[0mprint\u001b[0m\u001b[1;33m(\u001b[0m\u001b[0mdistance\u001b[0m\u001b[1;33m)\u001b[0m\u001b[1;33m\u001b[0m\u001b[1;33m\u001b[0m\u001b[0m\n",
      "\u001b[1;31mTypeError\u001b[0m: 'module' object is not callable"
     ]
    }
   ],
   "source": [
    "from "
   ]
  },
  {
   "cell_type": "code",
   "execution_count": null,
   "id": "edf3b7c7-4042-474e-985d-7186dda2188f",
   "metadata": {},
   "outputs": [],
   "source": []
  }
 ],
 "metadata": {
  "kernelspec": {
   "display_name": "Python 3 (ipykernel)",
   "language": "python",
   "name": "python3"
  },
  "language_info": {
   "codemirror_mode": {
    "name": "ipython",
    "version": 3
   },
   "file_extension": ".py",
   "mimetype": "text/x-python",
   "name": "python",
   "nbconvert_exporter": "python",
   "pygments_lexer": "ipython3",
   "version": "3.9.7"
  }
 },
 "nbformat": 4,
 "nbformat_minor": 5
}
