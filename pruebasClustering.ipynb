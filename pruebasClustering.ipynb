{
 "cells": [
  {
   "cell_type": "code",
   "execution_count": 2,
   "metadata": {},
   "outputs": [],
   "source": [
    "from sklearn.decomposition import PCA\n",
    "from sklearn.preprocessing import MinMaxScaler\n",
    "import pandas as pd \n",
    "import numpy as np"
   ]
  },
  {
   "cell_type": "code",
   "execution_count": 24,
   "metadata": {},
   "outputs": [
    {
     "data": {
      "text/plain": [
       "dtype('float64')"
      ]
     },
     "execution_count": 24,
     "metadata": {},
     "output_type": "execute_result"
    }
   ],
   "source": [
    "url = \"data/OrinaAntLimpio.csv\"\n",
    "datos = pd.read_csv(url, encoding=\"unicode_escape\", index_col=[0])\n",
    "datos.dtypes\n",
    "datos[\"Peso\"].dtype"
   ]
  },
  {
   "cell_type": "code",
   "execution_count": 44,
   "metadata": {},
   "outputs": [
    {
     "name": "stderr",
     "output_type": "stream",
     "text": [
      "C:\\Users\\CRISTI~1\\AppData\\Local\\Temp/ipykernel_21552/2619024790.py:11: FutureWarning: In a future version of pandas all arguments of DataFrame.drop except for the argument 'labels' will be keyword-only\n",
      "  numCols = datos.select_dtypes(include=np.number).drop(\"numVol\",1).columns\n"
     ]
    },
    {
     "data": {
      "text/html": [
       "<div>\n",
       "<style scoped>\n",
       "    .dataframe tbody tr th:only-of-type {\n",
       "        vertical-align: middle;\n",
       "    }\n",
       "\n",
       "    .dataframe tbody tr th {\n",
       "        vertical-align: top;\n",
       "    }\n",
       "\n",
       "    .dataframe thead th {\n",
       "        text-align: right;\n",
       "    }\n",
       "</style>\n",
       "<table border=\"1\" class=\"dataframe\">\n",
       "  <thead>\n",
       "    <tr style=\"text-align: right;\">\n",
       "      <th></th>\n",
       "      <th>numVol</th>\n",
       "      <th>Endulzante</th>\n",
       "      <th>CA.Gluc</th>\n",
       "      <th>DHPAA.Gluc</th>\n",
       "      <th>TFA.Gluc</th>\n",
       "      <th>TFA.Sulfate</th>\n",
       "      <th>Ácido.Vanílico..VA.</th>\n",
       "      <th>Tiempo</th>\n",
       "      <th>Sexo</th>\n",
       "      <th>Peso</th>\n",
       "      <th>IMC</th>\n",
       "      <th>Grasa</th>\n",
       "      <th>IRCV</th>\n",
       "      <th>Bpmin</th>\n",
       "      <th>Bpmax</th>\n",
       "      <th>Frec</th>\n",
       "    </tr>\n",
       "  </thead>\n",
       "  <tbody>\n",
       "    <tr>\n",
       "      <th>1</th>\n",
       "      <td>2</td>\n",
       "      <td>ST</td>\n",
       "      <td>0.854642</td>\n",
       "      <td>0.287856</td>\n",
       "      <td>0.003063</td>\n",
       "      <td>0.156336</td>\n",
       "      <td>0.132058</td>\n",
       "      <td>0</td>\n",
       "      <td>MUJER</td>\n",
       "      <td>0.238835</td>\n",
       "      <td>0.390977</td>\n",
       "      <td>0.693410</td>\n",
       "      <td>0.266667</td>\n",
       "      <td>0.328358</td>\n",
       "      <td>0.345238</td>\n",
       "      <td>0.457627</td>\n",
       "    </tr>\n",
       "    <tr>\n",
       "      <th>2</th>\n",
       "      <td>3</td>\n",
       "      <td>ST</td>\n",
       "      <td>0.020402</td>\n",
       "      <td>0.154252</td>\n",
       "      <td>0.011191</td>\n",
       "      <td>0.075332</td>\n",
       "      <td>0.019029</td>\n",
       "      <td>0</td>\n",
       "      <td>MUJER</td>\n",
       "      <td>0.436893</td>\n",
       "      <td>0.353383</td>\n",
       "      <td>0.710602</td>\n",
       "      <td>0.466667</td>\n",
       "      <td>0.238806</td>\n",
       "      <td>0.345238</td>\n",
       "      <td>0.372881</td>\n",
       "    </tr>\n",
       "    <tr>\n",
       "      <th>3</th>\n",
       "      <td>8</td>\n",
       "      <td>ST</td>\n",
       "      <td>0.018567</td>\n",
       "      <td>0.101799</td>\n",
       "      <td>0.073855</td>\n",
       "      <td>0.079011</td>\n",
       "      <td>0.014788</td>\n",
       "      <td>0</td>\n",
       "      <td>MUJER</td>\n",
       "      <td>0.172816</td>\n",
       "      <td>0.218045</td>\n",
       "      <td>0.690544</td>\n",
       "      <td>0.133333</td>\n",
       "      <td>0.253731</td>\n",
       "      <td>0.345238</td>\n",
       "      <td>0.627119</td>\n",
       "    </tr>\n",
       "    <tr>\n",
       "      <th>4</th>\n",
       "      <td>9</td>\n",
       "      <td>ST</td>\n",
       "      <td>0.007350</td>\n",
       "      <td>0.113523</td>\n",
       "      <td>0.003745</td>\n",
       "      <td>0.016538</td>\n",
       "      <td>0.016962</td>\n",
       "      <td>0</td>\n",
       "      <td>MUJER</td>\n",
       "      <td>0.132039</td>\n",
       "      <td>0.436090</td>\n",
       "      <td>0.868195</td>\n",
       "      <td>0.333333</td>\n",
       "      <td>0.253731</td>\n",
       "      <td>0.345238</td>\n",
       "      <td>0.542373</td>\n",
       "    </tr>\n",
       "    <tr>\n",
       "      <th>5</th>\n",
       "      <td>10</td>\n",
       "      <td>ST</td>\n",
       "      <td>0.010822</td>\n",
       "      <td>0.011633</td>\n",
       "      <td>0.000818</td>\n",
       "      <td>0.010418</td>\n",
       "      <td>0.014081</td>\n",
       "      <td>0</td>\n",
       "      <td>MUJER</td>\n",
       "      <td>0.648544</td>\n",
       "      <td>0.789474</td>\n",
       "      <td>0.853868</td>\n",
       "      <td>0.400000</td>\n",
       "      <td>0.432836</td>\n",
       "      <td>0.857143</td>\n",
       "      <td>0.644068</td>\n",
       "    </tr>\n",
       "  </tbody>\n",
       "</table>\n",
       "</div>"
      ],
      "text/plain": [
       "   numVol Endulzante   CA.Gluc  DHPAA.Gluc  TFA.Gluc  TFA.Sulfate  \\\n",
       "1       2         ST  0.854642    0.287856  0.003063     0.156336   \n",
       "2       3         ST  0.020402    0.154252  0.011191     0.075332   \n",
       "3       8         ST  0.018567    0.101799  0.073855     0.079011   \n",
       "4       9         ST  0.007350    0.113523  0.003745     0.016538   \n",
       "5      10         ST  0.010822    0.011633  0.000818     0.010418   \n",
       "\n",
       "   Ácido.Vanílico..VA. Tiempo   Sexo      Peso       IMC     Grasa      IRCV  \\\n",
       "1             0.132058      0  MUJER  0.238835  0.390977  0.693410  0.266667   \n",
       "2             0.019029      0  MUJER  0.436893  0.353383  0.710602  0.466667   \n",
       "3             0.014788      0  MUJER  0.172816  0.218045  0.690544  0.133333   \n",
       "4             0.016962      0  MUJER  0.132039  0.436090  0.868195  0.333333   \n",
       "5             0.014081      0  MUJER  0.648544  0.789474  0.853868  0.400000   \n",
       "\n",
       "      Bpmin     Bpmax      Frec  \n",
       "1  0.328358  0.345238  0.457627  \n",
       "2  0.238806  0.345238  0.372881  \n",
       "3  0.253731  0.345238  0.627119  \n",
       "4  0.253731  0.345238  0.542373  \n",
       "5  0.432836  0.857143  0.644068  "
      ]
     },
     "execution_count": 44,
     "metadata": {},
     "output_type": "execute_result"
    }
   ],
   "source": [
    "#datos_num = datos.select_dtypes(include=np.number).drop(\"numVol\",1)\n",
    "\n",
    "# create a scaler object\n",
    "\n",
    "scaler = MinMaxScaler()\n",
    "\n",
    "#fit & transform the data\n",
    "\n",
    "#datos_norm = pd.DataFrame(scaler.fit_transform(datos_num), columns = datos_num.columns)\n",
    "#datos_norm = datos.apply(lambda x: scaler.fit_transform(x) if x[.name] not in [\"numVol\", \"Tiempo\", \"Endulzante\", \"Sexo\"] else x)\n",
    "numCols = datos.select_dtypes(include=np.number).drop(\"numVol\",1).columns\n",
    "datos[numCols] = scaler.fit_transform(datos[numCols])\n",
    "datos.head()\n"
   ]
  },
  {
   "cell_type": "code",
   "execution_count": 48,
   "metadata": {},
   "outputs": [
    {
     "name": "stderr",
     "output_type": "stream",
     "text": [
      "C:\\Users\\CRISTI~1\\AppData\\Local\\Temp/ipykernel_21552/1673312749.py:1: FutureWarning: In a future version of pandas all arguments of DataFrame.drop except for the argument 'labels' will be keyword-only\n",
      "  datosNum = datos.select_dtypes(include=np.number).drop(\"numVol\",1)\n"
     ]
    }
   ],
   "source": [
    "datosNum = datos.select_dtypes(include=np.number).drop(\"numVol\",1)\n",
    "pca = PCA(n_components=2)\n",
    "pca.fit(datosNum)\n",
    "\n",
    "datos_reduced = pca.transform(datosNum)"
   ]
  },
  {
   "cell_type": "code",
   "execution_count": 52,
   "metadata": {},
   "outputs": [
    {
     "ename": "AttributeError",
     "evalue": "'numpy.ndarray' object has no attribute 'clusters'",
     "output_type": "error",
     "traceback": [
      "\u001b[1;31m---------------------------------------------------------------------------\u001b[0m",
      "\u001b[1;31mAttributeError\u001b[0m                            Traceback (most recent call last)",
      "\u001b[1;32mC:\\Users\\CRISTI~1\\AppData\\Local\\Temp/ipykernel_21552/306137483.py\u001b[0m in \u001b[0;36m<module>\u001b[1;34m\u001b[0m\n\u001b[0;32m      1\u001b[0m \u001b[0mdatosRed_df\u001b[0m \u001b[1;33m=\u001b[0m \u001b[0mpd\u001b[0m\u001b[1;33m.\u001b[0m\u001b[0mDataFrame\u001b[0m\u001b[1;33m(\u001b[0m\u001b[0mdatos_reduced\u001b[0m\u001b[1;33m,\u001b[0m \u001b[0mindex\u001b[0m\u001b[1;33m=\u001b[0m \u001b[0mdatosNum\u001b[0m\u001b[1;33m.\u001b[0m\u001b[0mindex\u001b[0m\u001b[1;33m,\u001b[0m \u001b[0mcolumns\u001b[0m \u001b[1;33m=\u001b[0m \u001b[1;33m[\u001b[0m\u001b[1;34m\"PC1\"\u001b[0m\u001b[1;33m,\u001b[0m \u001b[1;34m\"PC2\"\u001b[0m\u001b[1;33m]\u001b[0m\u001b[1;33m)\u001b[0m\u001b[1;33m\u001b[0m\u001b[1;33m\u001b[0m\u001b[0m\n\u001b[1;32m----> 2\u001b[1;33m \u001b[0mdatosRed_df\u001b[0m\u001b[1;33m[\u001b[0m\u001b[1;34m\"clusters\"\u001b[0m\u001b[1;33m]\u001b[0m \u001b[1;33m=\u001b[0m \u001b[0mdatos_reduced\u001b[0m\u001b[1;33m.\u001b[0m\u001b[0mclusters\u001b[0m\u001b[1;33m\u001b[0m\u001b[1;33m\u001b[0m\u001b[0m\n\u001b[0m\u001b[0;32m      3\u001b[0m \u001b[0mdatosRed_df\u001b[0m\u001b[1;33m.\u001b[0m\u001b[0mhead\u001b[0m\u001b[1;33m(\u001b[0m\u001b[1;33m)\u001b[0m\u001b[1;33m\u001b[0m\u001b[1;33m\u001b[0m\u001b[0m\n",
      "\u001b[1;31mAttributeError\u001b[0m: 'numpy.ndarray' object has no attribute 'clusters'"
     ]
    }
   ],
   "source": [
    "datosRed_df = pd.DataFrame(datos_reduced, index= datosNum.index, columns = [\"PC1\", \"PC2\"])\n",
    "datosRed_df[\"clusters\"] = datos_reduced.clusters\n",
    "datosRed_df.head()"
   ]
  }
 ],
 "metadata": {
  "interpreter": {
   "hash": "be503a5d17d5d964293ad9a11725fc270bb523d366d69b0e63829d6fc602281e"
  },
  "kernelspec": {
   "display_name": "Python 3.9.7 64-bit ('deepLcurse': conda)",
   "language": "python",
   "name": "python3"
  },
  "language_info": {
   "codemirror_mode": {
    "name": "ipython",
    "version": 3
   },
   "file_extension": ".py",
   "mimetype": "text/x-python",
   "name": "python",
   "nbconvert_exporter": "python",
   "pygments_lexer": "ipython3",
   "version": "3.9.7"
  },
  "orig_nbformat": 4
 },
 "nbformat": 4,
 "nbformat_minor": 2
}
